{
 "cells": [
  {
   "cell_type": "code",
   "execution_count": null,
   "id": "cea1a4b3",
   "metadata": {},
   "outputs": [],
   "source": [
    "using LinearAlgebra \n"
   ]
  }
 ],
 "metadata": {
  "kernelspec": {
   "display_name": "Julia 1.7.2",
   "language": "julia",
   "name": "julia-1.7"
  },
  "language_info": {
   "file_extension": ".jl",
   "mimetype": "application/julia",
   "name": "julia",
   "version": "1.7.2"
  }
 },
 "nbformat": 4,
 "nbformat_minor": 5
}
