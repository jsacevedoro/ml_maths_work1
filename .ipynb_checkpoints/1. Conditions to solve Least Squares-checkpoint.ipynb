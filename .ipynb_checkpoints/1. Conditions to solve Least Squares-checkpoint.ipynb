{
 "cells": [
  {
   "cell_type": "markdown",
   "id": "6cc195c3",
   "metadata": {},
   "source": [
    "### Question\n",
    "Related with the nature of the data, which conditions should meet matrices $A$ and $b$ to be solvable from the least squares perspective."
   ]
  },
  {
   "cell_type": "markdown",
   "id": "90990d3e",
   "metadata": {},
   "source": [
    "### Answer\n",
    "\n",
    "Given $A\\in\\mathbb{R}^{m\\times n}$ and $b\\in\\mathbb{R}^m$ with $m\\geq n$, the problem to find $ x\\in\\mathbb{R}^n$ that minimizes \n",
    "$$\\lvert \\lvert Ax-b \\lvert \\lvert _2$$ is called least square problem.\n",
    "\n",
    "According to the above definition, because $A$ and $b$ can come from a variety of unknown data sets, it must be ensured that they don't have missing values or values that differs from a number, such that is posible to state the problem and make computations.\n",
    "\n",
    "Now that the problem is stablished and has the right sense, from the nature of data perspective, we ought to recall that the Least Squares problem always has a solution, and the solution is unique if and only if $A$ has lineary independant columns [1]. The least square solution can be found solving a linear system which is the Normal Equations.\n",
    "\n",
    "So the only strong condition to solve the problem is its overdeterminated caracteristic. But in practice there could two main problems applying the normal equations:\n",
    "- If A is ill conditioned then $A^{T}A $ will be severy ill conditioned, this represent serious problems when trying to find its inverse.\n",
    "- The minimum is not unique\n",
    "\n",
    "It is recommended to solve least squares optimum using different techiniques such as QR factorization and Singular value decomposition."
   ]
  },
  {
   "cell_type": "code",
   "execution_count": null,
   "id": "e4a638f4",
   "metadata": {},
   "outputs": [],
   "source": []
  }
 ],
 "metadata": {
  "kernelspec": {
   "display_name": "Julia 1.7.2",
   "language": "julia",
   "name": "julia-1.7"
  },
  "language_info": {
   "file_extension": ".jl",
   "mimetype": "application/julia",
   "name": "julia",
   "version": "1.7.2"
  }
 },
 "nbformat": 4,
 "nbformat_minor": 5
}
